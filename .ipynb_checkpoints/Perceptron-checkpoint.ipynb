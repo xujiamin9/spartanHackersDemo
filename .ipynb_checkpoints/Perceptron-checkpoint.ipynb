{
 "cells": [
  {
   "cell_type": "code",
   "execution_count": null,
   "metadata": {},
   "outputs": [],
   "source": [
    "import pandas as pd\n",
    "import matplotlib.pyplot as plt \n",
    "import math\n",
    "import random"
   ]
  },
  {
   "cell_type": "code",
   "execution_count": null,
   "metadata": {},
   "outputs": [],
   "source": [
    "train = pd.read_csv('mnistTrain.csv', header = None)\n",
    "test = pd.read_csv('mnistTest.csv', header = None)"
   ]
  },
  {
   "cell_type": "code",
   "execution_count": null,
   "metadata": {},
   "outputs": [],
   "source": [
    "train = train.loc[train[64].isin([7,8])].reset_index(drop=True)\n",
    "test = test.loc[test[64].isin([7,8])].reset_index(drop=True)"
   ]
  },
  {
   "cell_type": "code",
   "execution_count": null,
   "metadata": {},
   "outputs": [],
   "source": [
    "print(train.shape)\n",
    "print(test.shape)\n",
    "print(train.head())"
   ]
  },
  {
   "cell_type": "code",
   "execution_count": null,
   "metadata": {
    "scrolled": true
   },
   "outputs": [],
   "source": [
    "for index, row in train.head(8).iterrows():\n",
    "    image = []\n",
    "    for i in range(8):\n",
    "        image.append(row[i*8:(i+1)*8])\n",
    "    plt.subplot(2, 4, index + 1)\n",
    "    plt.axis('off')\n",
    "    plt.imshow(image, cmap=plt.cm.gray_r, interpolation='nearest')\n",
    "    plt.title('%i' % row[64])"
   ]
  },
  {
   "cell_type": "code",
   "execution_count": null,
   "metadata": {},
   "outputs": [],
   "source": [
    "testTarget = test.iloc[:,-1]\n",
    "testImage = test.iloc[:,0:-1]\n",
    "trainTarget = train.iloc[:,-1]\n",
    "trainImage = train.iloc[:,0:-1]"
   ]
  },
  {
   "cell_type": "code",
   "execution_count": null,
   "metadata": {},
   "outputs": [],
   "source": [
    "ink = trainImage.sum(axis=1) "
   ]
  },
  {
   "cell_type": "code",
   "execution_count": null,
   "metadata": {},
   "outputs": [],
   "source": [
    "ink = ink - ink.min()\n",
    "ink = ink/ink.max()"
   ]
  },
  {
   "cell_type": "code",
   "execution_count": null,
   "metadata": {},
   "outputs": [],
   "source": [
    "asymmetry = pd.Series()"
   ]
  },
  {
   "cell_type": "code",
   "execution_count": null,
   "metadata": {},
   "outputs": [],
   "source": [
    "for index, row in trainImage.iterrows():\n",
    "    asym=0\n",
    "    for i in range(4):\n",
    "        asym+=abs(row[i]-row[7-i])\n",
    "    asymmetry.at[index]=asym"
   ]
  },
  {
   "cell_type": "code",
   "execution_count": null,
   "metadata": {},
   "outputs": [],
   "source": [
    "asymmetry = asymmetry - asymmetry.min()\n",
    "asymmetry = asymmetry/asymmetry.max()\n",
    "trainProc = pd.concat([ink, asymmetry,trainTarget], axis=1)\n",
    "trainProc.columns = ['ink','asymmetry','target']\n",
    "trainProc.head()"
   ]
  },
  {
   "cell_type": "code",
   "execution_count": null,
   "metadata": {},
   "outputs": [],
   "source": [
    "trainProc.plot(x ='ink', y='asymmetry',c='target',colormap='viridis' ,kind = 'scatter')\n",
    "plt.show()\n",
    "print(trainProc.size)"
   ]
  },
  {
   "cell_type": "code",
   "execution_count": null,
   "metadata": {},
   "outputs": [],
   "source": [
    "def predict(row, weights):\n",
    "    if (row['ink']*weights[0]+row['asymmetry']*weights[1])>=0:\n",
    "        return 1\n",
    "    else:\n",
    "        return 0"
   ]
  },
  {
   "cell_type": "code",
   "execution_count": null,
   "metadata": {},
   "outputs": [],
   "source": [
    "w =[random.random(),random.random()]\n",
    "l_rate=.1\n",
    "runtimes =100\n",
    "for i in range(runtimes):   \n",
    "    misclassified = 0\n",
    "    for _, row in trainProc.iterrows():\n",
    "        prediction = predict(row, w)\n",
    "        isEight = (1 if row['target']==8 else 0)\n",
    "        error = isEight - prediction\n",
    "        misclassified +=error**2\n",
    "        w[0] = w[0] + l_rate * error\n",
    "        for j in range(len(row)-1):\n",
    "            w[j] = w[j] + l_rate * error * row[j]\n",
    "    trainProc.plot(x ='ink', y='asymmetry',c='target',colormap='viridis' ,kind = 'scatter')\n",
    "    length =math.sqrt(w[0]**2+w[1]**2)\n",
    "    plt.plot((-w[1]/length,w[1]/length),(w[0]/length,-w[0]/length))\n",
    "    plt.show()\n",
    "    print(misclassified)"
   ]
  },
  {
   "cell_type": "code",
   "execution_count": null,
   "metadata": {},
   "outputs": [],
   "source": []
  }
 ],
 "metadata": {
  "kernelspec": {
   "display_name": "Python 3",
   "language": "python",
   "name": "python3"
  },
  "language_info": {
   "codemirror_mode": {
    "name": "ipython",
    "version": 3
   },
   "file_extension": ".py",
   "mimetype": "text/x-python",
   "name": "python",
   "nbconvert_exporter": "python",
   "pygments_lexer": "ipython3",
   "version": "3.7.3"
  }
 },
 "nbformat": 4,
 "nbformat_minor": 2
}
