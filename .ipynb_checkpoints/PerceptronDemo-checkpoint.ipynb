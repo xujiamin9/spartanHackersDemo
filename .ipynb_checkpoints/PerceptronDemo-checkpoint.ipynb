{
 "cells": [
  {
   "cell_type": "code",
   "execution_count": null,
   "metadata": {},
   "outputs": [],
   "source": [
    "import pandas as pd\n",
    "import matplotlib.pyplot as plt \n",
    "import math\n",
    "import random"
   ]
  },
  {
   "cell_type": "code",
   "execution_count": null,
   "metadata": {},
   "outputs": [],
   "source": [
    "train = pd.read_csv(\"7or8train.csv\")\n",
    "test = pd.read_csv(\"7or8test.csv\")"
   ]
  },
  {
   "cell_type": "code",
   "execution_count": null,
   "metadata": {},
   "outputs": [],
   "source": [
    "train.plot(x ='ink', y='asymmetry',c='target',colormap='viridis' ,kind = 'scatter')\n",
    "plt.show()"
   ]
  },
  {
   "cell_type": "code",
   "execution_count": null,
   "metadata": {},
   "outputs": [],
   "source": [
    "def predict(row, weights):\n",
    "    if (row['ink']*weights[0]+row['asymmetry']*weights[1])>=0:\n",
    "        return 1\n",
    "    else:\n",
    "        return 0"
   ]
  },
  {
   "cell_type": "code",
   "execution_count": null,
   "metadata": {},
   "outputs": [],
   "source": [
    "def perceptron(l_rate,runtimes,data):\n",
    "    w =[random.random(),random.random()]\n",
    "    l_rate=.5\n",
    "    runtimes =10\n",
    "    for i in range(runtimes):   \n",
    "        misclassified = 0\n",
    "        for _, row in data.iterrows():\n",
    "            prediction = predict(row, w)\n",
    "            error = row['target'] - prediction\n",
    "            misclassified +=error**2\n",
    "            w[0] = w[0] + l_rate * error\n",
    "            for j in range(len(row)-1):\n",
    "                w[j] = w[j] + l_rate * error * row[j]\n",
    "        data.plot(x ='ink', y='asymmetry',c='target',colormap='viridis' ,kind = 'scatter')\n",
    "        length =math.sqrt(w[0]**2+w[1]**2)\n",
    "        plt.plot((-w[1]/length,w[1]/length),(w[0]/length,-w[0]/length))\n",
    "        plt.show()\n",
    "        print(misclassified)\n",
    "        if misclassified ==0:\n",
    "            break\n",
    "    return w"
   ]
  },
  {
   "cell_type": "code",
   "execution_count": null,
   "metadata": {},
   "outputs": [],
   "source": [
    "weights = perceptron(.1,10,train)"
   ]
  },
  {
   "cell_type": "code",
   "execution_count": null,
   "metadata": {},
   "outputs": [],
   "source": [
    "misclassified = 0\n",
    "for _, row in test.iterrows():\n",
    "    prediction = predict(row, weights)\n",
    "    error = row['target'] - prediction\n",
    "    misclassified +=error**2\n",
    "test.plot(x ='ink', y='asymmetry',c='target',colormap='viridis' ,kind = 'scatter')\n",
    "length =math.sqrt(weights[0]**2+weights[1]**2)\n",
    "plt.plot((-weights[1]/length,weights[1]/length),(weights[0]/length,-weights[0]/length))\n",
    "plt.show()\n",
    "print(misclassified)"
   ]
  },
  {
   "cell_type": "code",
   "execution_count": null,
   "metadata": {},
   "outputs": [],
   "source": []
  }
 ],
 "metadata": {
  "kernelspec": {
   "display_name": "Python 3",
   "language": "python",
   "name": "python3"
  },
  "language_info": {
   "codemirror_mode": {
    "name": "ipython",
    "version": 3
   },
   "file_extension": ".py",
   "mimetype": "text/x-python",
   "name": "python",
   "nbconvert_exporter": "python",
   "pygments_lexer": "ipython3",
   "version": "3.7.3"
  }
 },
 "nbformat": 4,
 "nbformat_minor": 2
}
